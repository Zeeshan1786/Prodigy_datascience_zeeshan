{
 "cells": [
  {
   "cell_type": "markdown",
   "id": "6e15e0b4-bc4a-490d-8f3d-5cc9a843ee4d",
   "metadata": {},
   "source": [
    "Import libraries"
   ]
  },
  {
   "cell_type": "code",
   "execution_count": 1,
   "id": "f444102c-9bfb-46f3-9a83-a8d43cca86ab",
   "metadata": {},
   "outputs": [],
   "source": [
    "import pandas as pd\n",
    "import numpy as np\n",
    "import matplotlib.pyplot as plt\n",
    "import seaborn as sns\n",
    "import plotly.express as px\n",
    "import warnings\n",
    "warnings.filterwarnings(\"ignore\")\n"
   ]
  },
  {
   "cell_type": "markdown",
   "id": "b6fef476-61f6-41c5-bf6e-610e9e0031e1",
   "metadata": {},
   "source": [
    "Load dataset"
   ]
  },
  {
   "cell_type": "code",
   "execution_count": 2,
   "id": "f25d6d8e-9b28-42b9-b5ae-5fedd690bdf2",
   "metadata": {},
   "outputs": [
    {
     "data": {
      "text/html": [
       "<div>\n",
       "<style scoped>\n",
       "    .dataframe tbody tr th:only-of-type {\n",
       "        vertical-align: middle;\n",
       "    }\n",
       "\n",
       "    .dataframe tbody tr th {\n",
       "        vertical-align: top;\n",
       "    }\n",
       "\n",
       "    .dataframe thead th {\n",
       "        text-align: right;\n",
       "    }\n",
       "</style>\n",
       "<table border=\"1\" class=\"dataframe\">\n",
       "  <thead>\n",
       "    <tr style=\"text-align: right;\">\n",
       "      <th></th>\n",
       "      <th>ID</th>\n",
       "      <th>Source</th>\n",
       "      <th>Severity</th>\n",
       "      <th>Start_Time</th>\n",
       "      <th>End_Time</th>\n",
       "      <th>Start_Lat</th>\n",
       "      <th>Start_Lng</th>\n",
       "      <th>End_Lat</th>\n",
       "      <th>End_Lng</th>\n",
       "      <th>Distance(mi)</th>\n",
       "      <th>...</th>\n",
       "      <th>Roundabout</th>\n",
       "      <th>Station</th>\n",
       "      <th>Stop</th>\n",
       "      <th>Traffic_Calming</th>\n",
       "      <th>Traffic_Signal</th>\n",
       "      <th>Turning_Loop</th>\n",
       "      <th>Sunrise_Sunset</th>\n",
       "      <th>Civil_Twilight</th>\n",
       "      <th>Nautical_Twilight</th>\n",
       "      <th>Astronomical_Twilight</th>\n",
       "    </tr>\n",
       "  </thead>\n",
       "  <tbody>\n",
       "    <tr>\n",
       "      <th>0</th>\n",
       "      <td>A-1</td>\n",
       "      <td>Source2</td>\n",
       "      <td>3</td>\n",
       "      <td>2016-02-08 05:46:00</td>\n",
       "      <td>2016-02-08 11:00:00</td>\n",
       "      <td>39.865147</td>\n",
       "      <td>-84.058723</td>\n",
       "      <td>NaN</td>\n",
       "      <td>NaN</td>\n",
       "      <td>0.01</td>\n",
       "      <td>...</td>\n",
       "      <td>False</td>\n",
       "      <td>False</td>\n",
       "      <td>False</td>\n",
       "      <td>False</td>\n",
       "      <td>False</td>\n",
       "      <td>False</td>\n",
       "      <td>Night</td>\n",
       "      <td>Night</td>\n",
       "      <td>Night</td>\n",
       "      <td>Night</td>\n",
       "    </tr>\n",
       "    <tr>\n",
       "      <th>1</th>\n",
       "      <td>A-2</td>\n",
       "      <td>Source2</td>\n",
       "      <td>2</td>\n",
       "      <td>2016-02-08 06:07:59</td>\n",
       "      <td>2016-02-08 06:37:59</td>\n",
       "      <td>39.928059</td>\n",
       "      <td>-82.831184</td>\n",
       "      <td>NaN</td>\n",
       "      <td>NaN</td>\n",
       "      <td>0.01</td>\n",
       "      <td>...</td>\n",
       "      <td>False</td>\n",
       "      <td>False</td>\n",
       "      <td>False</td>\n",
       "      <td>False</td>\n",
       "      <td>False</td>\n",
       "      <td>False</td>\n",
       "      <td>Night</td>\n",
       "      <td>Night</td>\n",
       "      <td>Night</td>\n",
       "      <td>Day</td>\n",
       "    </tr>\n",
       "    <tr>\n",
       "      <th>2</th>\n",
       "      <td>A-3</td>\n",
       "      <td>Source2</td>\n",
       "      <td>2</td>\n",
       "      <td>2016-02-08 06:49:27</td>\n",
       "      <td>2016-02-08 07:19:27</td>\n",
       "      <td>39.063148</td>\n",
       "      <td>-84.032608</td>\n",
       "      <td>NaN</td>\n",
       "      <td>NaN</td>\n",
       "      <td>0.01</td>\n",
       "      <td>...</td>\n",
       "      <td>False</td>\n",
       "      <td>False</td>\n",
       "      <td>False</td>\n",
       "      <td>False</td>\n",
       "      <td>True</td>\n",
       "      <td>False</td>\n",
       "      <td>Night</td>\n",
       "      <td>Night</td>\n",
       "      <td>Day</td>\n",
       "      <td>Day</td>\n",
       "    </tr>\n",
       "    <tr>\n",
       "      <th>3</th>\n",
       "      <td>A-4</td>\n",
       "      <td>Source2</td>\n",
       "      <td>3</td>\n",
       "      <td>2016-02-08 07:23:34</td>\n",
       "      <td>2016-02-08 07:53:34</td>\n",
       "      <td>39.747753</td>\n",
       "      <td>-84.205582</td>\n",
       "      <td>NaN</td>\n",
       "      <td>NaN</td>\n",
       "      <td>0.01</td>\n",
       "      <td>...</td>\n",
       "      <td>False</td>\n",
       "      <td>False</td>\n",
       "      <td>False</td>\n",
       "      <td>False</td>\n",
       "      <td>False</td>\n",
       "      <td>False</td>\n",
       "      <td>Night</td>\n",
       "      <td>Day</td>\n",
       "      <td>Day</td>\n",
       "      <td>Day</td>\n",
       "    </tr>\n",
       "    <tr>\n",
       "      <th>4</th>\n",
       "      <td>A-5</td>\n",
       "      <td>Source2</td>\n",
       "      <td>2</td>\n",
       "      <td>2016-02-08 07:39:07</td>\n",
       "      <td>2016-02-08 08:09:07</td>\n",
       "      <td>39.627781</td>\n",
       "      <td>-84.188354</td>\n",
       "      <td>NaN</td>\n",
       "      <td>NaN</td>\n",
       "      <td>0.01</td>\n",
       "      <td>...</td>\n",
       "      <td>False</td>\n",
       "      <td>False</td>\n",
       "      <td>False</td>\n",
       "      <td>False</td>\n",
       "      <td>True</td>\n",
       "      <td>False</td>\n",
       "      <td>Day</td>\n",
       "      <td>Day</td>\n",
       "      <td>Day</td>\n",
       "      <td>Day</td>\n",
       "    </tr>\n",
       "  </tbody>\n",
       "</table>\n",
       "<p>5 rows × 46 columns</p>\n",
       "</div>"
      ],
      "text/plain": [
       "    ID   Source  Severity           Start_Time             End_Time  \\\n",
       "0  A-1  Source2         3  2016-02-08 05:46:00  2016-02-08 11:00:00   \n",
       "1  A-2  Source2         2  2016-02-08 06:07:59  2016-02-08 06:37:59   \n",
       "2  A-3  Source2         2  2016-02-08 06:49:27  2016-02-08 07:19:27   \n",
       "3  A-4  Source2         3  2016-02-08 07:23:34  2016-02-08 07:53:34   \n",
       "4  A-5  Source2         2  2016-02-08 07:39:07  2016-02-08 08:09:07   \n",
       "\n",
       "   Start_Lat  Start_Lng  End_Lat  End_Lng  Distance(mi)  ... Roundabout  \\\n",
       "0  39.865147 -84.058723      NaN      NaN          0.01  ...      False   \n",
       "1  39.928059 -82.831184      NaN      NaN          0.01  ...      False   \n",
       "2  39.063148 -84.032608      NaN      NaN          0.01  ...      False   \n",
       "3  39.747753 -84.205582      NaN      NaN          0.01  ...      False   \n",
       "4  39.627781 -84.188354      NaN      NaN          0.01  ...      False   \n",
       "\n",
       "  Station   Stop Traffic_Calming Traffic_Signal Turning_Loop Sunrise_Sunset  \\\n",
       "0   False  False           False          False        False          Night   \n",
       "1   False  False           False          False        False          Night   \n",
       "2   False  False           False           True        False          Night   \n",
       "3   False  False           False          False        False          Night   \n",
       "4   False  False           False           True        False            Day   \n",
       "\n",
       "  Civil_Twilight Nautical_Twilight Astronomical_Twilight  \n",
       "0          Night             Night                 Night  \n",
       "1          Night             Night                   Day  \n",
       "2          Night               Day                   Day  \n",
       "3            Day               Day                   Day  \n",
       "4            Day               Day                   Day  \n",
       "\n",
       "[5 rows x 46 columns]"
      ]
     },
     "execution_count": 2,
     "metadata": {},
     "output_type": "execute_result"
    }
   ],
   "source": [
    "df = pd.read_csv(\"US_Accidents_March23.csv\")\n",
    "df.head()"
   ]
  },
  {
   "cell_type": "markdown",
   "id": "d140143b-84af-4abf-9229-c951d1a6e989",
   "metadata": {},
   "source": [
    "Overview"
   ]
  },
  {
   "cell_type": "code",
   "execution_count": null,
   "id": "5cdc121f-91a7-4f65-a9ce-f15e82302f55",
   "metadata": {},
   "outputs": [
    {
     "name": "stdout",
     "output_type": "stream",
     "text": [
      "Shape of dataset: (7728394, 46)\n",
      "\n",
      "Columns: ['ID', 'Source', 'Severity', 'Start_Time', 'End_Time', 'Start_Lat', 'Start_Lng', 'End_Lat', 'End_Lng', 'Distance(mi)', 'Description', 'Street', 'City', 'County', 'State', 'Zipcode', 'Country', 'Timezone', 'Airport_Code', 'Weather_Timestamp', 'Temperature(F)', 'Wind_Chill(F)', 'Humidity(%)', 'Pressure(in)', 'Visibility(mi)', 'Wind_Direction', 'Wind_Speed(mph)', 'Precipitation(in)', 'Weather_Condition', 'Amenity', 'Bump', 'Crossing', 'Give_Way', 'Junction', 'No_Exit', 'Railway', 'Roundabout', 'Station', 'Stop', 'Traffic_Calming', 'Traffic_Signal', 'Turning_Loop', 'Sunrise_Sunset', 'Civil_Twilight', 'Nautical_Twilight', 'Astronomical_Twilight']\n",
      "\n",
      "Data types:\n",
      "ID                    object\n",
      "Source                object\n",
      "Severity               int64\n",
      "Start_Time            object\n",
      "End_Time              object\n",
      "Start_Lat            float64\n",
      "Start_Lng            float64\n",
      "End_Lat              float64\n",
      "End_Lng              float64\n",
      "Distance(mi)         float64\n",
      "Description           object\n",
      "Street                object\n",
      "City                  object\n",
      "County                object\n",
      "State                 object\n",
      "Zipcode               object\n",
      "Country               object\n",
      "Timezone              object\n",
      "Airport_Code          object\n",
      "Weather_Timestamp     object\n",
      "dtype: object\n",
      "\n",
      "Missing values:\n",
      "ID                         0\n",
      "Source                     0\n",
      "Severity                   0\n",
      "Start_Time                 0\n",
      "End_Time                   0\n",
      "Start_Lat                  0\n",
      "Start_Lng                  0\n",
      "End_Lat              3402762\n",
      "End_Lng              3402762\n",
      "Distance(mi)               0\n",
      "Description                5\n",
      "Street                 10869\n",
      "City                     253\n",
      "County                     0\n",
      "State                      0\n",
      "Zipcode                 1915\n",
      "Country                    0\n",
      "Timezone                7808\n",
      "Airport_Code           22635\n",
      "Weather_Timestamp     120228\n",
      "dtype: int64\n",
      "\n",
      "Basic statistics:\n"
     ]
    }
   ],
   "source": [
    "# Shape and columns\n",
    "print(\"Shape of dataset:\", df.shape)\n",
    "print(\"\\nColumns:\", df.columns.tolist())\n",
    "\n",
    "# Data types\n",
    "print(\"\\nData types:\")\n",
    "print(df.dtypes.head(20))\n",
    "\n",
    "# Missing values\n",
    "print(\"\\nMissing values:\")\n",
    "print(df.isnull().sum().head(20))\n",
    "\n",
    "# Basic statistics\n",
    "print(\"\\nBasic statistics:\")\n",
    "df.describe(include=\"all\").transpose().head(15)\n"
   ]
  },
  {
   "cell_type": "markdown",
   "id": "cc217eed-17b8-48dd-b646-06620c9fa4fd",
   "metadata": {},
   "source": [
    "Conversion of dataset to chart"
   ]
  },
  {
   "cell_type": "code",
   "execution_count": null,
   "id": "2d5acb9f-6f92-4029-bbed-26cc709cb86d",
   "metadata": {},
   "outputs": [],
   "source": [
    "df[\"Start_Time\"] = pd.to_datetime(df[\"Start_Time\"], format=\"mixed\", errors=\"coerce\")\n",
    "df = df.dropna(subset=[\"Start_Time\"])\n",
    "\n",
    "df[\"Year\"] = df[\"Start_Time\"].dt.year\n",
    "df[\"Month\"] = df[\"Start_Time\"].dt.month\n",
    "df[\"Day\"] = df[\"Start_Time\"].dt.day\n",
    "df[\"Hour\"] = df[\"Start_Time\"].dt.hour\n",
    "df[\"DayOfWeek\"] = df[\"Start_Time\"].dt.day_name()\n",
    "\n",
    "df[[\"Start_Time\", \"Year\", \"Month\", \"Day\", \"Hour\", \"DayOfWeek\"]].head()\n",
    "\n"
   ]
  },
  {
   "cell_type": "markdown",
   "id": "025402c1-eca0-4ce2-a3a3-99d516e25111",
   "metadata": {},
   "source": [
    "Number of accidents per year"
   ]
  },
  {
   "cell_type": "code",
   "execution_count": null,
   "id": "e2a17439-1d03-4769-a909-3d8737d405c4",
   "metadata": {},
   "outputs": [],
   "source": [
    "plt.figure(figsize=(10,5))\n",
    "sns.countplot(data=df, x=\"Year\", palette=\"viridis\")\n",
    "plt.title(\"Number of Accidents per Year\")\n",
    "plt.xticks(rotation=45)\n",
    "plt.show()"
   ]
  },
  {
   "cell_type": "markdown",
   "id": "5dbb1677-7a9a-4a17-9845-322ecffd1487",
   "metadata": {},
   "source": [
    "Number of accidents per month"
   ]
  },
  {
   "cell_type": "code",
   "execution_count": null,
   "id": "9bf2b776-2b47-4f67-a334-12184c676778",
   "metadata": {},
   "outputs": [],
   "source": [
    "plt.figure(figsize=(10,5))\n",
    "sns.countplot(data=df, x=\"Month\", palette=\"coolwarm\")\n",
    "plt.title(\"Number of Accidents per Month\")\n",
    "plt.show()"
   ]
  },
  {
   "cell_type": "markdown",
   "id": "d2e41afe-8462-47ea-9b68-30ed3b65926f",
   "metadata": {},
   "source": [
    "Number of accidents per hour"
   ]
  },
  {
   "cell_type": "code",
   "execution_count": null,
   "id": "1b35e923-9a1b-40ab-a3ed-fc53bc69a02b",
   "metadata": {},
   "outputs": [],
   "source": [
    "plt.figure(figsize=(10,5))\n",
    "sns.countplot(data=df, x=\"Hour\", palette=\"magma\")\n",
    "plt.title(\"Number of Accidents by Hour of the Day\")\n",
    "plt.show()"
   ]
  },
  {
   "cell_type": "markdown",
   "id": "88f1163b-1822-4840-be67-719d888f7387",
   "metadata": {},
   "source": [
    "Accidents by state"
   ]
  },
  {
   "cell_type": "code",
   "execution_count": null,
   "id": "db1b8d0a-5880-4f58-b9f4-91454f455c40",
   "metadata": {},
   "outputs": [],
   "source": [
    "plt.figure(figsize=(12,6))\n",
    "top_states = df['State'].value_counts().head(10)\n",
    "sns.barplot(x=top_states.index, y=top_states.values, palette=\"viridis\")\n",
    "plt.title(\"Top 10 States with Most Accidents\")\n",
    "plt.ylabel(\"Number of Accidents\")\n",
    "plt.show()"
   ]
  },
  {
   "cell_type": "markdown",
   "id": "588fd5a5-64ac-4c14-b3ba-cf15bf9dfa74",
   "metadata": {},
   "source": [
    "Accidents on map"
   ]
  },
  {
   "cell_type": "code",
   "execution_count": null,
   "id": "6cd236f0-e3aa-43cb-bcb0-10f4762f536b",
   "metadata": {},
   "outputs": [],
   "source": [
    "# Only for a sample to reduce size\n",
    "df_sample = df.sample(5000)\n",
    "\n",
    "fig = px.scatter_mapbox(df_sample,\n",
    "                        lat=\"Start_Lat\",\n",
    "                        lon=\"Start_Lng\",\n",
    "                        hover_name=\"City\",\n",
    "                        hover_data=[\"State\",\"Severity\"],\n",
    "                        color=\"Severity\",\n",
    "                        zoom=3,\n",
    "                        height=600,\n",
    "                        color_continuous_scale=px.colors.cyclical.IceFire)\n",
    "\n",
    "fig.update_layout(mapbox_style=\"open-street-map\")\n",
    "fig.update_layout(title=\"US Accidents Map (Sample 5k Rows)\")\n",
    "fig.show()\n"
   ]
  },
  {
   "cell_type": "markdown",
   "id": "228f4839-8bbd-4870-9f17-8e89a9c819e0",
   "metadata": {},
   "source": [
    "Weather condition analysis"
   ]
  },
  {
   "cell_type": "code",
   "execution_count": null,
   "id": "3bdc2a39-02e9-4ee8-8660-5d124b040dba",
   "metadata": {},
   "outputs": [],
   "source": [
    "plt.figure(figsize=(12,6))\n",
    "top_weather = df['Weather_Condition'].value_counts().head(15)\n",
    "sns.barplot(y=top_weather.index, x=top_weather.values, palette=\"coolwarm\")\n",
    "plt.title(\"Top 15 Weather Conditions During Accidents\")\n",
    "plt.xlabel(\"Number of Accidents\")\n",
    "plt.show()"
   ]
  },
  {
   "cell_type": "code",
   "execution_count": null,
   "id": "402deb0f-4063-4cac-9663-1818b2aa52b4",
   "metadata": {},
   "outputs": [],
   "source": [
    "import os\n",
    "os.getcwd()\n"
   ]
  },
  {
   "cell_type": "code",
   "execution_count": null,
   "id": "dbd495e0-be9f-41f5-915b-ac3892fd2e86",
   "metadata": {},
   "outputs": [],
   "source": []
  }
 ],
 "metadata": {
  "kernelspec": {
   "display_name": "Python 3 (ipykernel)",
   "language": "python",
   "name": "python3"
  },
  "language_info": {
   "codemirror_mode": {
    "name": "ipython",
    "version": 3
   },
   "file_extension": ".py",
   "mimetype": "text/x-python",
   "name": "python",
   "nbconvert_exporter": "python",
   "pygments_lexer": "ipython3",
   "version": "3.10.0"
  }
 },
 "nbformat": 4,
 "nbformat_minor": 5
}
